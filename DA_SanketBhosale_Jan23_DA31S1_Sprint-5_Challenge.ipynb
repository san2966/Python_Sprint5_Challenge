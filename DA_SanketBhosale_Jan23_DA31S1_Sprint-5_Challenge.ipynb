{
 "cells": [
  {
   "cell_type": "code",
   "execution_count": 26,
   "id": "b472cf90",
   "metadata": {},
   "outputs": [],
   "source": [
    "emp_details={\"John Lee\":\"12-12-1976\",\n",
    "             \"Tim Brooks\":\"11-04-1980\",\n",
    "             \"Alice Cook\":\"07-1-1978\",\n",
    "             \"Joshua John\":\"05-02-1991\",\n",
    "             \"Alisa Matt\":\"03-04-1990\"}\n",
    "    \n",
    "christmas = \"12-25\"\n",
    "veterans_day = \"11-11\"\n",
    "independence_day = \"07-04\"\n",
    "\n",
    "def Bday_voucher(name,dob):\n",
    "    for name,dob in emp_details.items():\n",
    "        dob_month,dob_date,dob_year=dob.split('-')\n",
    "        if int(dob_month)==12:\n",
    "            print('Dear',name)\n",
    "            print('wishing you a Happy Birthday! On behalf of your birthday')\n",
    "            print('with the upcoming Christmas season, we offer you a gift')\n",
    "            print('voucher valued $250.')\n",
    "            print('Birthday $100')\n",
    "            print('Christmas $150')\n",
    "        elif int(dob_month)==11:\n",
    "            print('Dear',name)\n",
    "            print('wishing you a Happy Birthday! On behalf of your birthday')\n",
    "            print('with the upcoming Veterans Day, we offer you a gift')\n",
    "            print('voucher valued $200.')\n",
    "            print('Birthday $100')\n",
    "            print('Veterans Day $100')\n",
    "        elif int(dob_month)==7:\n",
    "            print('Dear',name)\n",
    "            print('wishing you a Happy Birthday! On behalf of your birthday')\n",
    "            print('with the upcoming Independance Day, we offer you a gift')\n",
    "            print('voucher valued $150.')\n",
    "            print('Birthday $100')\n",
    "            print('Independance Day $50')\n",
    "        else:\n",
    "            print('Dear',name,)\n",
    "            print('Wishing you a Happy Birtday! on behalf of your')\n",
    "            print('birthday, we offer you a gift voucher valued $100')"
   ]
  },
  {
   "cell_type": "code",
   "execution_count": 27,
   "id": "3ba0a954",
   "metadata": {
    "scrolled": true
   },
   "outputs": [
    {
     "name": "stdout",
     "output_type": "stream",
     "text": [
      "Dear John Lee\n",
      "wishing you a Happy Birthday! On behalf of your birthday\n",
      "with the upcoming Christmas season, we offer you a gift\n",
      "voucher valued $250.\n",
      "Birthday $100\n",
      "Christmas $150\n",
      "Dear Tim Brooks\n",
      "wishing you a Happy Birthday! On behalf of your birthday\n",
      "with the upcoming Veterans Day, we offer you a gift\n",
      "voucher valued $200.\n",
      "Birthday $100\n",
      "Veterans Day $100\n",
      "Dear Alice Cook\n",
      "wishing you a Happy Birthday! On behalf of your birthday\n",
      "with the upcoming Independance Day, we offer you a gift\n",
      "voucher valued $150.\n",
      "Birthday $100\n",
      "Independance Day $50\n",
      "Dear Joshua John\n",
      "Wishing you a Happy Birtday! on behalf of your\n",
      "birthday, we offer you a gift voucher valued $100\n",
      "Dear Alisa Matt\n",
      "Wishing you a Happy Birtday! on behalf of your\n",
      "birthday, we offer you a gift voucher valued $100\n"
     ]
    }
   ],
   "source": [
    "Bday_voucher('john','12-12-1976')"
   ]
  },
  {
   "cell_type": "code",
   "execution_count": null,
   "id": "d4092d03",
   "metadata": {},
   "outputs": [],
   "source": []
  }
 ],
 "metadata": {
  "kernelspec": {
   "display_name": "Python 3 (ipykernel)",
   "language": "python",
   "name": "python3"
  },
  "language_info": {
   "codemirror_mode": {
    "name": "ipython",
    "version": 3
   },
   "file_extension": ".py",
   "mimetype": "text/x-python",
   "name": "python",
   "nbconvert_exporter": "python",
   "pygments_lexer": "ipython3",
   "version": "3.9.13"
  }
 },
 "nbformat": 4,
 "nbformat_minor": 5
}
